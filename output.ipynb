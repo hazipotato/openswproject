{
 "cells": [
  {
   "cell_type": "markdown",
   "id": "82c8c72a",
   "metadata": {
    "tags": [
     "papermill-error-cell-tag"
    ]
   },
   "source": [
    "<span style=\"color:red; font-family:Helvetica Neue, Helvetica, Arial, sans-serif; font-size:2em;\">An Exception was encountered at '<a href=\"#papermill-error-cell\">In [1]</a>'.</span>"
   ]
  },
  {
   "cell_type": "markdown",
   "id": "3bba383b",
   "metadata": {
    "tags": [
     "papermill-error-cell-tag"
    ]
   },
   "source": [
    "<span id=\"papermill-error-cell\" style=\"color:red; font-family:Helvetica Neue, Helvetica, Arial, sans-serif; font-size:2em;\">Execution using papermill encountered an exception here and stopped:</span>"
   ]
  },
  {
   "cell_type": "code",
   "execution_count": 1,
   "id": "812e0477",
   "metadata": {
    "execution": {
     "iopub.execute_input": "2024-08-21T02:06:28.139819Z",
     "iopub.status.busy": "2024-08-21T02:06:28.139819Z",
     "iopub.status.idle": "2024-08-21T02:06:55.216882Z",
     "shell.execute_reply": "2024-08-21T02:06:55.214883Z"
    },
    "papermill": {
     "duration": 27.08823,
     "end_time": "2024-08-21T02:06:55.220109",
     "exception": true,
     "start_time": "2024-08-21T02:06:28.131879",
     "status": "failed"
    },
    "tags": []
   },
   "outputs": [
    {
     "name": "stderr",
     "output_type": "stream",
     "text": [
      "C:\\reproject\\myenv\\Lib\\site-packages\\tqdm\\auto.py:21: TqdmWarning: IProgress not found. Please update jupyter and ipywidgets. See https://ipywidgets.readthedocs.io/en/stable/user_install.html\n",
      "  from .autonotebook import tqdm as notebook_tqdm\n"
     ]
    },
    {
     "ename": "ModuleNotFoundError",
     "evalue": "No module named 'torch._appdirs'",
     "output_type": "error",
     "traceback": [
      "\u001b[1;31m---------------------------------------------------------------------------\u001b[0m",
      "\u001b[1;31mModuleNotFoundError\u001b[0m                       Traceback (most recent call last)",
      "Cell \u001b[1;32mIn[1], line 14\u001b[0m\n\u001b[0;32m     12\u001b[0m \u001b[38;5;28;01mimport\u001b[39;00m \u001b[38;5;21;01mio\u001b[39;00m\n\u001b[0;32m     13\u001b[0m \u001b[38;5;28;01mfrom\u001b[39;00m \u001b[38;5;21;01mbs4\u001b[39;00m \u001b[38;5;28;01mimport\u001b[39;00m BeautifulSoup\n\u001b[1;32m---> 14\u001b[0m \u001b[38;5;28;01mfrom\u001b[39;00m \u001b[38;5;21;01mpix2tex\u001b[39;00m\u001b[38;5;21;01m.\u001b[39;00m\u001b[38;5;21;01mcli\u001b[39;00m \u001b[38;5;28;01mimport\u001b[39;00m LatexOCR\n\u001b[0;32m     15\u001b[0m \u001b[38;5;28;01mfrom\u001b[39;00m \u001b[38;5;21;01mIPython\u001b[39;00m\u001b[38;5;21;01m.\u001b[39;00m\u001b[38;5;21;01mdisplay\u001b[39;00m \u001b[38;5;28;01mimport\u001b[39;00m display, Math\n\u001b[0;32m     16\u001b[0m \u001b[38;5;28;01mfrom\u001b[39;00m \u001b[38;5;21;01mcollections\u001b[39;00m \u001b[38;5;28;01mimport\u001b[39;00m Counter\n",
      "File \u001b[1;32mC:\\reproject\\myenv\\Lib\\site-packages\\pix2tex\\cli.py:20\u001b[0m\n\u001b[0;32m     18\u001b[0m \u001b[38;5;28;01mimport\u001b[39;00m \u001b[38;5;21;01mnumpy\u001b[39;00m \u001b[38;5;28;01mas\u001b[39;00m \u001b[38;5;21;01mnp\u001b[39;00m\n\u001b[0;32m     19\u001b[0m \u001b[38;5;28;01mimport\u001b[39;00m \u001b[38;5;21;01mtorch\u001b[39;00m\n\u001b[1;32m---> 20\u001b[0m \u001b[38;5;28;01mfrom\u001b[39;00m \u001b[38;5;21;01mtorch\u001b[39;00m\u001b[38;5;21;01m.\u001b[39;00m\u001b[38;5;21;01m_appdirs\u001b[39;00m \u001b[38;5;28;01mimport\u001b[39;00m user_data_dir\n\u001b[0;32m     21\u001b[0m \u001b[38;5;28;01mfrom\u001b[39;00m \u001b[38;5;21;01mmunch\u001b[39;00m \u001b[38;5;28;01mimport\u001b[39;00m Munch\n\u001b[0;32m     22\u001b[0m \u001b[38;5;28;01mfrom\u001b[39;00m \u001b[38;5;21;01mtransformers\u001b[39;00m \u001b[38;5;28;01mimport\u001b[39;00m PreTrainedTokenizerFast\n",
      "\u001b[1;31mModuleNotFoundError\u001b[0m: No module named 'torch._appdirs'"
     ]
    }
   ],
   "source": [
    "import cv2\n",
    "from pytesseract import pytesseract, Output\n",
    "from PIL import Image, ImageDraw, ImageFont, ImageTk\n",
    "import random\n",
    "import numpy as np\n",
    "import matplotlib.pyplot as plt\n",
    "import tensorflow as tf\n",
    "import re\n",
    "from pykospacing import Spacing\n",
    "import tkinter as tk\n",
    "from tkinter import filedialog, messagebox\n",
    "import io\n",
    "from bs4 import BeautifulSoup\n",
    "from pix2tex.cli import LatexOCR\n",
    "from IPython.display import display, Math\n",
    "from collections import Counter\n",
    "\n",
    "custom_config = r'--oem 1 --psm 6'"
   ]
  },
  {
   "cell_type": "code",
   "execution_count": null,
   "id": "d4a056ad",
   "metadata": {
    "papermill": {
     "duration": null,
     "end_time": null,
     "exception": null,
     "start_time": null,
     "status": "pending"
    },
    "tags": []
   },
   "outputs": [],
   "source": [
    "image = cv2.imread('image.png')\n",
    "rgb_image = cv2.cvtColor(image, cv2.COLOR_BGR2RGB)\n",
    "gray_image = cv2.cvtColor(rgb_image, cv2.COLOR_RGB2GRAY)\n",
    "_, binary_image = cv2.threshold(gray_image, 0, 255, cv2.THRESH_BINARY + cv2.THRESH_OTSU)\n",
    "\n"
   ]
  },
  {
   "cell_type": "code",
   "execution_count": null,
   "id": "3674da08",
   "metadata": {
    "papermill": {
     "duration": null,
     "end_time": null,
     "exception": null,
     "start_time": null,
     "status": "pending"
    },
    "tags": []
   },
   "outputs": [],
   "source": [
    "plt.figure(figsize=(6, 6))\n",
    "plt.imshow(binary_image , cmap='gray')\n",
    "plt.title('binary_image')\n",
    "plt.axis('off')\n",
    "\n",
    "plt.show()"
   ]
  },
  {
   "cell_type": "code",
   "execution_count": null,
   "id": "4ae37114",
   "metadata": {
    "papermill": {
     "duration": null,
     "end_time": null,
     "exception": null,
     "start_time": null,
     "status": "pending"
    },
    "tags": []
   },
   "outputs": [],
   "source": [
    "pil_image = Image.fromarray(binary_image)\n",
    "extracted_text = pytesseract.image_to_string(pil_image, lang='kor', config=custom_config)\n",
    "# 추출된 텍스트 출력\n",
    "print(extracted_text)"
   ]
  },
  {
   "cell_type": "code",
   "execution_count": null,
   "id": "ca074a17",
   "metadata": {
    "papermill": {
     "duration": null,
     "end_time": null,
     "exception": null,
     "start_time": null,
     "status": "pending"
    },
    "tags": []
   },
   "outputs": [],
   "source": [
    "hocr = pytesseract.image_to_pdf_or_hocr(image, extension='hocr', lang='kor')\n",
    "\n",
    "with open('output_file.hocr', 'wb') as f:\n",
    "    f.write(hocr)"
   ]
  },
  {
   "cell_type": "code",
   "execution_count": null,
   "id": "6c38ed03",
   "metadata": {
    "papermill": {
     "duration": null,
     "end_time": null,
     "exception": null,
     "start_time": null,
     "status": "pending"
    },
    "tags": []
   },
   "outputs": [],
   "source": [
    "with open('output.hocr', 'r', encoding='utf-8') as file:\n",
    "    hocr_content = file.read()\n",
    "\n",
    "soup = BeautifulSoup(hocr_content, 'html.parser')\n",
    "\n",
    "words = soup.find_all('span', class_='ocrx_word')\n",
    "\n",
    "bounding_boxes = []\n",
    "\n",
    "for word in words:\n",
    "    text = word.get_text()\n",
    "    title = word.get('title', '')\n",
    "    if 'bbox' in title:\n",
    "        bbox = title.split(';')[0].split()[1:]\n",
    "        x1, y1, x2, y2 = map(int, bbox)\n",
    "        \n",
    "        # 숫자가 포함된 단어인지 확인\n",
    "        if re.search(r'\\d', text):\n",
    "            bounding_boxes.append((x1, y1, x2, y2))\n",
    "            '''print(f\"Word: {text}, Bounding box: ({x1}, {y1}, {x2}, {y2})\")'''"
   ]
  },
  {
   "cell_type": "code",
   "execution_count": null,
   "id": "48a5497c",
   "metadata": {
    "papermill": {
     "duration": null,
     "end_time": null,
     "exception": null,
     "start_time": null,
     "status": "pending"
    },
    "tags": []
   },
   "outputs": [],
   "source": [
    "for idx, bbox in enumerate(bounding_boxes):\n",
    "    x1, y1, x2, y2 = bbox\n",
    "    # 이미지 잘라내기\n",
    "    cropped_image = image[y1:y2, x1:x2]\n",
    "    \n",
    "    # 자른 이미지 저장\n",
    "    cropped_image_path = f'cropped_image.png'\n",
    "    cv2.imwrite(cropped_image_path, cropped_image)\n",
    "    print(f\"Cropped image saved to: {cropped_image_path}\")\n",
    "\n",
    "    cropped_img = cv2.cvtColor(cropped_image, cv2.COLOR_BGR2RGB)\n",
    "plt.imshow(cropped_img)\n",
    "plt.title(f'Cropped image')\n",
    "plt.show()"
   ]
  },
  {
   "cell_type": "code",
   "execution_count": null,
   "id": "b73aaded",
   "metadata": {
    "papermill": {
     "duration": null,
     "end_time": null,
     "exception": null,
     "start_time": null,
     "status": "pending"
    },
    "tags": []
   },
   "outputs": [],
   "source": [
    "image = cv2.imread('cropped_image.png')\n",
    "rgb_image = cv2.cvtColor(image, cv2.COLOR_BGR2RGB)\n",
    "gray_image = cv2.cvtColor(rgb_image, cv2.COLOR_RGB2GRAY)\n",
    "_, binary_image = cv2.threshold(gray_image, 0, 255, cv2.THRESH_BINARY + cv2.THRESH_OTSU)"
   ]
  },
  {
   "cell_type": "code",
   "execution_count": null,
   "id": "6f5a2066",
   "metadata": {
    "papermill": {
     "duration": null,
     "end_time": null,
     "exception": null,
     "start_time": null,
     "status": "pending"
    },
    "tags": []
   },
   "outputs": [],
   "source": [
    "plt.figure(figsize=(6, 6))\n",
    "plt.imshow(binary_image , cmap='gray')\n",
    "plt.title('binary_image')\n",
    "plt.axis('off')\n",
    "\n",
    "plt.show()"
   ]
  },
  {
   "cell_type": "code",
   "execution_count": null,
   "id": "83f45a2e",
   "metadata": {
    "papermill": {
     "duration": null,
     "end_time": null,
     "exception": null,
     "start_time": null,
     "status": "pending"
    },
    "tags": []
   },
   "outputs": [],
   "source": [
    "pil_image = Image.fromarray(binary_image)\n",
    "\n",
    "model=LatexOCR()\n",
    "extracted_equ=model(pil_image)\n",
    "\n",
    "print(extracted_equ)\n",
    "display(Math(extracted_equ))"
   ]
  },
  {
   "cell_type": "code",
   "execution_count": null,
   "id": "a7f96a2d",
   "metadata": {
    "papermill": {
     "duration": null,
     "end_time": null,
     "exception": null,
     "start_time": null,
     "status": "pending"
    },
    "tags": []
   },
   "outputs": [],
   "source": [
    "def replace_braced_letters(extracted_equ):\n",
    "    pattern = r'\\{([a-zA-Z])\\}'\n",
    "    matches = re.findall(pattern, extracted_equ)\n",
    "\n",
    "    if len(matches) > 1:\n",
    "        counter = Counter(matches)\n",
    "        \n",
    "        if len(counter) == 1:\n",
    "            result = re.sub(pattern, '{x}', extracted_equ)\n",
    "        else:\n",
    "            unique_symbols = {chr(ord('x') + i) for i in range(len(counter))}\n",
    "            symbol_map = {char: symbol for char, symbol in zip(counter.keys(), unique_symbols)}\n",
    "\n",
    "            def replace_match(match):\n",
    "                char = match.group(1)\n",
    "                return f'{{{symbol_map[char]}}}'\n",
    "\n",
    "            result = re.sub(pattern, replace_match, extracted_equ)\n",
    "    else:\n",
    "        result = re.sub(pattern, '{x}', extracted_equ)\n",
    "\n",
    "    return result\n",
    "\n",
    "extracted_equ = replace_braced_letters(extracted_equ)\n",
    "\n",
    "print(extracted_equ)\n",
    "display(Math(extracted_equ))"
   ]
  },
  {
   "cell_type": "code",
   "execution_count": null,
   "id": "e0df8b11",
   "metadata": {
    "papermill": {
     "duration": null,
     "end_time": null,
     "exception": null,
     "start_time": null,
     "status": "pending"
    },
    "tags": []
   },
   "outputs": [],
   "source": [
    "def replace_numbers_in_latex(extracted_equ):\n",
    "    def replace_with_random(match):\n",
    "        return str(random.randint(1, 99))\n",
    "    \n",
    "    number_pattern = re.compile(r'\\d+')\n",
    "    \n",
    "    new_equ = number_pattern.sub(replace_with_random, extracted_equ)\n",
    "    \n",
    "    return new_equ\n",
    "\n",
    "new_equ = replace_numbers_in_latex(extracted_equ)\n",
    "\n",
    "print(new_equ)\n",
    "display(Math(new_equ)) "
   ]
  },
  {
   "cell_type": "code",
   "execution_count": null,
   "id": "16930319",
   "metadata": {
    "papermill": {
     "duration": null,
     "end_time": null,
     "exception": null,
     "start_time": null,
     "status": "pending"
    },
    "tags": []
   },
   "outputs": [],
   "source": [
    "def contains_korean(text):\n",
    "    pattern = re.compile(r'[ㄱ-ㅎ가-힣]+')\n",
    "    if re.search(pattern, text):\n",
    "        return True\n",
    "    else:\n",
    "        return False\n",
    "\n",
    "def remove_spaces(text):\n",
    "    return ''.join(text.split())\n",
    "\n",
    "parts = extracted_text.split('\\n')\n",
    "\n",
    "for i in range(len(parts)-1):\n",
    "    if contains_korean(parts[i]):\n",
    "        print(f\"parts[{i}] 에는 한국어가 포함되어 있습니다.\")\n",
    "        parts[i] = remove_spaces(parts[i])\n",
    "        spacing = Spacing()\n",
    "        parts[i] = spacing(parts[i])\n",
    "        print(f\"parts[{i}] 에 대해 띄어쓰기 교정 완료\")\n",
    "        print('->',parts[i])\n",
    "    else:\n",
    "        print(f\"parts[{i}] 에는 한국어가 포함되어 있지 않습니다.\")"
   ]
  },
  {
   "cell_type": "code",
   "execution_count": null,
   "id": "9d2c1bf5",
   "metadata": {
    "papermill": {
     "duration": null,
     "end_time": null,
     "exception": null,
     "start_time": null,
     "status": "pending"
    },
    "tags": []
   },
   "outputs": [],
   "source": [
    "with open('mun.txt', 'w', encoding='utf-8') as file:\n",
    "    for i in range(len(parts)-1):\n",
    "        if contains_korean(parts[i]):\n",
    "            file.write(parts[i]+'\\n')\n",
    "        else : pass\n",
    "    file.write(new_equ)\n",
    "    file.write('\\n\\n위 문제의 풀이를 알려줘. 알려준 풀이에서 LaTeX 수식 언어로 출력하는 부분은 인코딩 할 수 있도록 $$로 감싸서 출력해줘')\n",
    "\n",
    "\n",
    "with open('mun.txt','r',encoding='utf-8') as file:\n",
    "    content=file.read()\n",
    "\n",
    "print(content)"
   ]
  },
  {
   "cell_type": "code",
   "execution_count": null,
   "id": "643623fa",
   "metadata": {
    "papermill": {
     "duration": null,
     "end_time": null,
     "exception": null,
     "start_time": null,
     "status": "pending"
    },
    "tags": []
   },
   "outputs": [],
   "source": []
  }
 ],
 "metadata": {
  "kernelspec": {
   "display_name": "Python 3",
   "language": "python",
   "name": "python3"
  },
  "language_info": {
   "codemirror_mode": {
    "name": "ipython",
    "version": 3
   },
   "file_extension": ".py",
   "mimetype": "text/x-python",
   "name": "python",
   "nbconvert_exporter": "python",
   "pygments_lexer": "ipython3",
   "version": "3.12.4"
  },
  "papermill": {
   "default_parameters": {},
   "duration": 34.451263,
   "end_time": "2024-08-21T02:06:56.688531",
   "environment_variables": {},
   "exception": true,
   "input_path": "make_problems.ipynb",
   "output_path": "output.ipynb",
   "parameters": {},
   "start_time": "2024-08-21T02:06:22.237268",
   "version": "2.6.0"
  }
 },
 "nbformat": 4,
 "nbformat_minor": 5
}